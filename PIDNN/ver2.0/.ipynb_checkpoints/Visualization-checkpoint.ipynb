{
 "cells": [
  {
   "cell_type": "code",
   "execution_count": null,
   "id": "16774a28-6f63-48dc-942a-1a84babd3cb4",
   "metadata": {},
   "outputs": [],
   "source": [
    "#imports\n",
    "import matplotlib.pyplot as plt\n",
    "import matplotlib as mpl\n",
    "import numpy as np\n",
    "import pandas as pd\n",
    "import os\n",
    "\n",
    "mpl.rcParams[\"font.family\"] = \"Times New Roman\"\n",
    "mpl.rcParams[\"font.size\"] = 12\n",
    "\n",
    "import common as my\n",
    "\n",
    "# !pwd && ls -ltr\n",
    "# file_path = \"outputs/\"\n",
    "# file_path = \"old_outputs/\"\n",
    "# outputs = os.listdir(file_path)\n",
    "# files = my.get_files(outputs, \"demo\", \".txt\")"
   ]
  },
  {
   "cell_type": "markdown",
   "id": "ce1f5bc4-06b6-429c-b1be-2197e344aeef",
   "metadata": {},
   "source": [
    "# Chapter 2\n",
    "### 2.1.1 Reproduction"
   ]
  },
  {
   "cell_type": "code",
   "execution_count": null,
   "id": "fd0d0a62-ee95-4c2f-a07f-bae9e7944f8a",
   "metadata": {},
   "outputs": [],
   "source": [
    "# df = pd.read_csv(file_path+files[100], delimiter=\",\", header=0)\n",
    "df = pd.read_csv(file_path+\"demo100d32.txt\", delimiter=\",\", header=0)\n",
    "df"
   ]
  },
  {
   "cell_type": "code",
   "execution_count": null,
   "id": "ddd08e7f-3264-450a-b362-938ea5d6645d",
   "metadata": {},
   "outputs": [],
   "source": [
    "fig = plt.figure(figsize=(6,5), dpi=150)\n",
    "colors = {df.columns[5]: \"b\", df.columns[6]:\"b\" ,df.columns[7]: \"r\"}\n",
    "linestypes = {df.columns[5]:\"-\", df.columns[6]: \"-.\", df.columns[7]: \"-\"}\n",
    "xvalues = df[df.columns[0]]\n",
    "\n",
    "for i in [5, 6,7]:\n",
    "    it = df.columns[i]\n",
    "    plt.plot(xvalues, df[it], label=it, \n",
    "             color=colors[it],linestyle=linestypes[it]\n",
    "            )\n",
    "\n",
    "plt.xlim([0,3e5])\n",
    "plt.ylim([0,1.2])\n",
    "plt.grid()\n",
    "plt.legend()\n",
    "plt.show()"
   ]
  },
  {
   "cell_type": "code",
   "execution_count": null,
   "id": "52f10544-f0ab-4806-a827-e784676a72ef",
   "metadata": {},
   "outputs": [],
   "source": []
  },
  {
   "cell_type": "code",
   "execution_count": null,
   "id": "fe0a3d70-410e-4695-b800-822771fb69f9",
   "metadata": {},
   "outputs": [],
   "source": []
  },
  {
   "cell_type": "code",
   "execution_count": null,
   "id": "a38fd427-7724-43b1-90fa-628890f0a328",
   "metadata": {},
   "outputs": [],
   "source": []
  },
  {
   "cell_type": "markdown",
   "id": "59f4c143-b779-457c-bf42-add7159cc98b",
   "metadata": {},
   "source": [
    "### 2.1.2 Detial I've Found"
   ]
  },
  {
   "cell_type": "code",
   "execution_count": null,
   "id": "e0d910f3-de0b-426d-81ba-ef87282229ac",
   "metadata": {},
   "outputs": [],
   "source": []
  },
  {
   "cell_type": "markdown",
   "id": "2ed8ab44-da8f-4420-aa0c-ac2c7c5701d1",
   "metadata": {},
   "source": [
    "### 2.1.3 Numerical Methods (MATLAB)"
   ]
  },
  {
   "cell_type": "code",
   "execution_count": null,
   "id": "875210b9-ec91-46ef-b616-d5ffbc5bc298",
   "metadata": {},
   "outputs": [],
   "source": []
  }
 ],
 "metadata": {
  "kernelspec": {
   "display_name": "Python 3 (ipykernel)",
   "language": "python",
   "name": "python3"
  },
  "language_info": {
   "codemirror_mode": {
    "name": "ipython",
    "version": 3
   },
   "file_extension": ".py",
   "mimetype": "text/x-python",
   "name": "python",
   "nbconvert_exporter": "python",
   "pygments_lexer": "ipython3",
   "version": "3.11.7"
  }
 },
 "nbformat": 4,
 "nbformat_minor": 5
}
