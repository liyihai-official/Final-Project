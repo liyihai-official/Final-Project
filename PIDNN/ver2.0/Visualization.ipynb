{
 "cells": [
  {
   "cell_type": "code",
   "execution_count": null,
   "id": "16774a28-6f63-48dc-942a-1a84babd3cb4",
   "metadata": {},
   "outputs": [],
   "source": [
    "#imports\n",
    "import matplotlib.pyplot as plt\n",
    "import matplotlib as mpl\n",
    "import numpy as np\n",
    "import pandas as pd\n",
    "import os\n",
    "import tensorflow as tf\n",
    "\n",
    "mpl.rcParams[\"font.family\"] = \"Times New Roman\"\n",
    "mpl.rcParams[\"font.size\"] = 12\n",
    "mpl.rcParams[\"text.usetex\"] = True\n",
    "\n",
    "import common as my\n",
    "\n",
    "# !pwd && ls -ltr\n",
    "file_path = \"outputs/\"\n",
    "outputs = os.listdir(file_path)\n",
    "files = my.get_files(outputs, \"demo\", \".txt\")"
   ]
  },
  {
   "cell_type": "markdown",
   "id": "ce1f5bc4-06b6-429c-b1be-2197e344aeef",
   "metadata": {},
   "source": [
    "# Chapter 2\n",
    "### 2.1.1 Reproduction"
   ]
  },
  {
   "cell_type": "code",
   "execution_count": null,
   "id": "fd0d0a62-ee95-4c2f-a07f-bae9e7944f8a",
   "metadata": {},
   "outputs": [],
   "source": [
    "df = pd.read_csv(file_path+files[100], delimiter=\",\", header=0)\n",
    "df"
   ]
  },
  {
   "cell_type": "code",
   "execution_count": null,
   "id": "ddd08e7f-3264-450a-b362-938ea5d6645d",
   "metadata": {},
   "outputs": [],
   "source": [
    "fig = plt.figure(figsize=(6,5), dpi=150)\n",
    "colors = {df.columns[5]: \"b\", df.columns[6]:\"b\" ,df.columns[7]: \"r\"}\n",
    "linestypes = {df.columns[5]:\"-\", df.columns[6]: \"-.\", df.columns[7]: \"-\"}\n",
    "labels = {df.columns[5]: \"$L^1(\\lambda_{[0,1]^d}; \\mathrm{R})$\", \n",
    "          df.columns[6]:\"$L^2(\\lambda_{[0,1]^d}; \\mathrm{R})$\", \n",
    "          df.columns[7]:\"$L^{\\infty}(\\lambda_{[0,1]^d}; \\mathrm{R})$\"}\n",
    "xvalues = df[df.columns[0]]\n",
    "\n",
    "for i in [5, 6,7]:\n",
    "    it = df.columns[i]\n",
    "    plt.plot(xvalues, df[it], label=labels[it], \n",
    "             color=colors[it],linestyle=linestypes[it]\n",
    "            )\n",
    "\n",
    "plt.xlim([0,3e5])\n",
    "plt.ylim([0,1.2])\n",
    "plt.ylabel(\"Estimated Relative Errors\")\n",
    "plt.xlabel(\"Number of Iterations\")\n",
    "plt.grid()\n",
    "plt.legend()\n",
    "plt.title(\"Results of Heat Equation with $d=100$ by Deep Learning\")\n",
    "plt.savefig(\"/Users/michaellea/001 - M.Sc_HPC/55640-Project/Seminar-2/Presentation/Slides/F01.png\", bbox_inches='tight')\n",
    "plt.show()"
   ]
  },
  {
   "cell_type": "markdown",
   "id": "a3378e4d-774a-4927-b62a-f146b15ae707",
   "metadata": {},
   "source": [
    "- Plot the Predictions"
   ]
  },
  {
   "cell_type": "code",
   "execution_count": null,
   "id": "b709c2c6-1be6-42c7-872a-8d1ebcb5ba1e",
   "metadata": {},
   "outputs": [],
   "source": [
    "def gen_grid_world(up,low, grid_size, dim='2d'):\n",
    "    xx = np.linspace(up,low,grid_size)\n",
    "    yy = np.linspace(up,low,grid_size)\n",
    "\n",
    "    if dim == '2d':\n",
    "        X,Y = np.meshgrid(xx, yy)\n",
    "        return np.column_stack((X.ravel(), Y.ravel()))\n",
    "    elif dim == '3d':\n",
    "        zz = np.linspace(0,1,100)\n",
    "        X, Y, Z = np.meshgrid(xx, yy, zz)\n",
    "        return np.column_stack((X.ravel(), Y.ravel(), Z.ravel()))\n",
    "    else:\n",
    "        raise ValueError(\"ExpectValue: '2d', '3d'\")\n",
    "\n",
    "def phi(x):\n",
    "    return tf.reduce_sum(x ** 2, axis=1, keepdims=True)\n",
    "    \n",
    "def custom_loss(model, x, y, training):\n",
    "    y_ = model(x, training=training)\n",
    "    return tf.reduce_mean((y_- y)**2)"
   ]
  },
  {
   "cell_type": "code",
   "execution_count": null,
   "id": "9bab6d37-d811-4450-a235-869359c2398a",
   "metadata": {},
   "outputs": [],
   "source": [
    "T = 1\n",
    "d = 2\n",
    "\n",
    "Grid_World = gen_grid_world(0,1,200, dim='2d')\n",
    "u_ref = phi(Grid_World) + 2.*T*d"
   ]
  },
  {
   "cell_type": "code",
   "execution_count": null,
   "id": "e3efac79-2546-40bf-b01a-9b556ebd6134",
   "metadata": {},
   "outputs": [],
   "source": [
    "model = tf.keras.models.load_model(f'best_models/best_model_{d}d',custom_objects={'custom_loss': custom_loss})"
   ]
  },
  {
   "cell_type": "code",
   "execution_count": null,
   "id": "4c781aaf-6a60-4d56-af1c-1737c04e7743",
   "metadata": {},
   "outputs": [],
   "source": [
    "# Create a 2D plots\n",
    "fig = plt.figure(figsize=(10,3.5), dpi=200)\n",
    "\n",
    "\n",
    "ax = fig.add_subplot(121)\n",
    "scatter = ax.scatter(Grid_World[:,0], Grid_World[:,1], c=u_ref, cmap='jet', marker='o',alpha=1, s=3)\n",
    "cbar = fig.colorbar(scatter, ax=ax, label='$u(1, x, y)$')\n",
    "\n",
    "# Set labels and title\n",
    "ax.set_xlabel('X-axis')\n",
    "ax.set_ylabel('Y-axis')\n",
    "ax.set_title('Solution')\n",
    "\n",
    "plt.xlim([0,1])\n",
    "plt.ylim([0,1])\n",
    "\n",
    "ax2 = fig.add_subplot(122)\n",
    "cbar = fig.colorbar(scatter, ax=ax2, label='$u(1, x, y)$')\n",
    "scatter = ax2.scatter(Grid_World[:,0], Grid_World[:,1], alpha=1, cmap='jet', marker='o', c = model(Grid_World, training=False),s=3)\n",
    "\n",
    "# Set labels and title\n",
    "ax2.set_xlabel('X-axis')\n",
    "ax2.set_ylabel('Y-axis')\n",
    "ax2.set_title('Prediction')\n",
    "\n",
    "plt.xlim([0,1])\n",
    "plt.ylim([0,1])\n",
    "\n",
    "plt.savefig(f\"/Users/michaellea/001 - M.Sc_HPC/55640-Project/Seminar-2/Presentation/Slides/F0{d}.png\", bbox_inches='tight')\n",
    "\n",
    "plt.show()"
   ]
  },
  {
   "cell_type": "code",
   "execution_count": null,
   "id": "82fa80bb-d545-4700-b780-c6681591ad67",
   "metadata": {},
   "outputs": [],
   "source": [
    "T = 1\n",
    "d = 3\n",
    "\n",
    "Grid_World = gen_grid_world(0,1,200, dim=f'{d}d')\n",
    "u_ref = phi(Grid_World) + 2.*T*d"
   ]
  },
  {
   "cell_type": "code",
   "execution_count": null,
   "id": "164e51d1-bf33-4566-ad57-080c8925f1e2",
   "metadata": {},
   "outputs": [],
   "source": [
    "model = tf.keras.models.load_model(f'best_models/best_model_{d}d',custom_objects={'custom_loss': custom_loss})"
   ]
  },
  {
   "cell_type": "code",
   "execution_count": null,
   "id": "ab4dfc5d-a4b5-4d8c-822b-b5af3195b630",
   "metadata": {},
   "outputs": [],
   "source": [
    "# Create a 3D plots\n",
    "fig = plt.figure(figsize=(15,5), dpi=200)\n",
    "\n",
    "\n",
    "ax = fig.add_subplot(121, projection='3d')\n",
    "scatter = ax.scatter(Grid_World[:,0], Grid_World[:,1], Grid_World[:,2], c=u_ref, cmap='jet', marker='o',alpha=.5, s=2)\n",
    "cbar = fig.colorbar(scatter, ax=ax, label='$u(1, x, y)$')\n",
    "plt.subplots_adjust(right=0.8)\n",
    "\n",
    "# Set labels and title\n",
    "ax.set_xlabel('X-axis')\n",
    "ax.set_ylabel('Y-axis')\n",
    "ax.set_title('Solution')\n",
    "\n",
    "plt.xlim([0,1])\n",
    "plt.ylim([0,1])\n",
    "\n",
    "ax2 = fig.add_subplot(122, projection='3d')\n",
    "cbar = fig.colorbar(scatter, ax=ax2, label='$u(1, x, y)$')\n",
    "scatter = ax2.scatter(Grid_World[:,0], Grid_World[:,1], Grid_World[:,2], alpha=.5, cmap='jet', marker='o', c = model(Grid_World, training=False),s=2)\n",
    "\n",
    "# Set labels and title\n",
    "ax2.set_xlabel('X-axis')\n",
    "ax2.set_ylabel('Y-axis')\n",
    "ax2.set_title('Prediction')\n",
    "\n",
    "plt.xlim([0,1])\n",
    "plt.ylim([0,1])\n",
    "\n",
    "plt.savefig(f\"/Users/michaellea/001 - M.Sc_HPC/55640-Project/Seminar-2/Presentation/Slides/F0{d}.png\", bbox_inches='tight')\n",
    "\n",
    "plt.show()"
   ]
  },
  {
   "cell_type": "code",
   "execution_count": null,
   "id": "c81400bf-cd9d-4da8-bdd5-200474d07a31",
   "metadata": {},
   "outputs": [],
   "source": [
    "T = 1\n",
    "d = 3\n",
    "\n",
    "Grid_World = gen_grid_world(0,1,100, dim=f'{d}d')\n",
    "d = 100\n",
    "u_ref = phi(Grid_World) + 2.*T*d\n",
    "\n",
    "model = tf.keras.models.load_model(f'best_models/best_model_{d}d',custom_objects={'custom_loss': custom_loss})"
   ]
  },
  {
   "cell_type": "code",
   "execution_count": null,
   "id": "e1837780-03ea-45a4-ab7d-a93a84cb7e46",
   "metadata": {},
   "outputs": [],
   "source": [
    "temp = np.zeros((1000000,100))\n",
    "for i, _ in enumerate(temp):\n",
    "    temp[i,0:3] = Grid_World[i]\n",
    "Grid_World = temp"
   ]
  },
  {
   "cell_type": "code",
   "execution_count": null,
   "id": "eb6a5387-f6a1-4971-a3e7-bfcd3f59ff49",
   "metadata": {},
   "outputs": [],
   "source": []
  },
  {
   "cell_type": "code",
   "execution_count": null,
   "id": "51cb22d5-c4ef-4c8d-a6a5-9eda8e1f31cd",
   "metadata": {},
   "outputs": [],
   "source": [
    "# Create a 3D plots\n",
    "fig = plt.figure(figsize=(15,5), dpi=200)\n",
    "\n",
    "\n",
    "ax = fig.add_subplot(121, projection='3d')\n",
    "scatter = ax.scatter(Grid_World[:,0], Grid_World[:,1], Grid_World[:,2], c=u_ref, cmap='jet', marker='o',alpha=.5, s=2)\n",
    "cbar = fig.colorbar(scatter, ax=ax, label='$u(1, x, y)$')\n",
    "plt.subplots_adjust(right=0.8)\n",
    "\n",
    "# Set labels and title\n",
    "ax.set_xlabel('X-axis')\n",
    "ax.set_ylabel('Y-axis')\n",
    "ax.set_title('Solution')\n",
    "\n",
    "plt.xlim([0,1])\n",
    "plt.ylim([0,1])\n",
    "\n",
    "ax2 = fig.add_subplot(122, projection='3d')\n",
    "cbar = fig.colorbar(scatter, ax=ax2, label='$u(1, x, y)$')\n",
    "scatter = ax2.scatter(Grid_World[:,0], Grid_World[:,1], Grid_World[:,2], alpha=.5, cmap='jet', marker='o', c = model(Grid_World, training=False),s=2)\n",
    "\n",
    "# Set labels and title\n",
    "ax2.set_xlabel('X-axis')\n",
    "ax2.set_ylabel('Y-axis')\n",
    "ax2.set_title('Prediction')\n",
    "\n",
    "plt.xlim([0,1])\n",
    "plt.ylim([0,1])\n",
    "\n",
    "plt.savefig(f\"/Users/michaellea/001 - M.Sc_HPC/55640-Project/Seminar-2/Presentation/Slides/F0{d}.png\", bbox_inches='tight')\n",
    "\n",
    "plt.show()"
   ]
  },
  {
   "cell_type": "code",
   "execution_count": null,
   "id": "eb3a9b8d-6369-4669-849a-a7401d870215",
   "metadata": {},
   "outputs": [],
   "source": []
  },
  {
   "cell_type": "markdown",
   "id": "59f4c143-b779-457c-bf42-add7159cc98b",
   "metadata": {
    "jp-MarkdownHeadingCollapsed": true
   },
   "source": [
    "### 2.1.2 Detial I've Found"
   ]
  },
  {
   "cell_type": "code",
   "execution_count": null,
   "id": "e0d910f3-de0b-426d-81ba-ef87282229ac",
   "metadata": {},
   "outputs": [],
   "source": []
  },
  {
   "cell_type": "markdown",
   "id": "2ed8ab44-da8f-4420-aa0c-ac2c7c5701d1",
   "metadata": {},
   "source": [
    "### 2.1.3 Numerical Methods DIFF (C)"
   ]
  },
  {
   "cell_type": "code",
   "execution_count": null,
   "id": "908a62be-4df0-4c54-af4c-103428dc1ec4",
   "metadata": {},
   "outputs": [],
   "source": [
    "path_2d =  \"../../Heat2D/difference2D.dat\"\n",
    "path_3d =  \"../../Heat3D/difference3D.dat\""
   ]
  },
  {
   "cell_type": "code",
   "execution_count": null,
   "id": "99ceb1f3-53e4-4c9f-a193-08097c5810fa",
   "metadata": {},
   "outputs": [],
   "source": [
    "df2d = pd.read_csv(path_2d, delimiter=\" \")\n",
    "df3d = pd.read_csv(path_3d, delimiter=\" \")\n",
    "\n",
    "df2d.head(3),df3d.head(3)"
   ]
  },
  {
   "cell_type": "code",
   "execution_count": null,
   "id": "f0e87d7d-69bd-4312-854b-863961f2a899",
   "metadata": {},
   "outputs": [],
   "source": [
    "list(df2d[\"step\"])[-1]"
   ]
  },
  {
   "cell_type": "code",
   "execution_count": null,
   "id": "0985841f-0a43-4d4c-884e-242c2b137134",
   "metadata": {},
   "outputs": [],
   "source": [
    "fig = plt.figure(figsize=(6,5), dpi=300)\n",
    "colors = {\"2d\": \"b\", \"3d\":\"r\"}\n",
    "linestypes = {\"2d\":\"-\", \"3d\": \"-\"}\n",
    "labels = {\"2d\": \"dim-$2$\", \"3d\":\"dim-$3$\"}\n",
    "xvalues = df2d[df2d.columns[0]]\n",
    "\n",
    "for i, df in enumerate([df2d, df3d]):\n",
    "    plt.semilogy(df[df.columns[0]], df[\"diff\"], label=labels[f\"{i+2}d\"], \n",
    "             color=colors[f\"{i+2}d\"],linestyle=linestypes[f\"{i+2}d\"]\n",
    "            )\n",
    "\n",
    "# plt.semilogy\n",
    "# plt.xlim([0,3e5])\n",
    "# plt.ylim([0,1.2])\n",
    "plt.ylabel(\"Differences\")\n",
    "plt.xlabel(\"Number of Iterations\")\n",
    "plt.grid()\n",
    "plt.legend()\n",
    "\n",
    "plt.yticks([1e1, 1e-2, 1e-4, 1e-6, 1e-8])\n",
    "plt.xticks([0,500,1000,1400, list(df2d[\"step\"])[-1], 2100, 2400, list(df3d[\"step\"])[-1]])\n",
    "plt.title(\"Results of Heat Equation by Finite Differences\")\n",
    "plt.savefig(\"/Users/michaellea/001 - M.Sc_HPC/55640-Project/Seminar-2/Presentation/Slides/F0FDM.png\", bbox_inches='tight')\n",
    "plt.show()"
   ]
  },
  {
   "cell_type": "code",
   "execution_count": null,
   "id": "1f3e023f-8444-42bb-aced-800c383562dc",
   "metadata": {},
   "outputs": [],
   "source": []
  }
 ],
 "metadata": {
  "kernelspec": {
   "display_name": "Python 3 (ipykernel)",
   "language": "python",
   "name": "python3"
  },
  "language_info": {
   "codemirror_mode": {
    "name": "ipython",
    "version": 3
   },
   "file_extension": ".py",
   "mimetype": "text/x-python",
   "name": "python",
   "nbconvert_exporter": "python",
   "pygments_lexer": "ipython3",
   "version": "3.11.7"
  }
 },
 "nbformat": 4,
 "nbformat_minor": 5
}
