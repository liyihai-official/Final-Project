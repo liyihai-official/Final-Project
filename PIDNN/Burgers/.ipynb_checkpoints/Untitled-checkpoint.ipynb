{
 "cells": [
  {
   "cell_type": "code",
   "execution_count": null,
   "id": "0c9c000d-f3a9-4909-b074-c02afa180a96",
   "metadata": {},
   "outputs": [],
   "source": [
    "#imports\n",
    "import tensorflow as tf\n",
    "import numpy as np\n",
    "import matplotlib.pyplot as plt\n",
    "import time\n",
    "# import scipy.io\n",
    "\n",
    "from scipy.stats import qmc"
   ]
  },
  {
   "cell_type": "code",
   "execution_count": null,
   "id": "b4a296e6-e025-4cc0-9442-a372ad62b6be",
   "metadata": {},
   "outputs": [],
   "source": [
    "tf.keras.backend.set_floatx(\"float32\")"
   ]
  },
  {
   "cell_type": "code",
   "execution_count": null,
   "id": "23dd988c-1a74-4f9a-84ad-8920fcf9d530",
   "metadata": {},
   "outputs": [],
   "source": [
    "##\n",
    "n_bc = 4\n",
    "n_data_per_bc = 25\n",
    "\n",
    "engine = qmc.LatinHypercube(d=1)\n",
    "data = np.zeros([4, 25, 3])"
   ]
  },
  {
   "cell_type": "code",
   "execution_count": null,
   "id": "a3e779b9-1958-446f-93a2-618adb36b140",
   "metadata": {},
   "outputs": [],
   "source": [
    "for i, j in zip(range(n_bc), [-1, +1, -1, +1]):\n",
    "    points = (engine.random(n=n_data_per_bc)[:, 0] - 0.5) * 2\n",
    "    if i < 2:\n",
    "        data[i,:,0] = j\n",
    "        data[i,:,1] = points\n",
    "    else:\n",
    "        data[i,:,0] = points\n",
    "        data[i,:,1] = j"
   ]
  },
  {
   "cell_type": "code",
   "execution_count": null,
   "id": "65ff0672-d218-4906-8971-40af909dc8f7",
   "metadata": {},
   "outputs": [],
   "source": [
    "data[0,:,2] = 1.\n",
    "data[1,:,2] = 1.\n",
    "data[2,:,2] = 1."
   ]
  },
  {
   "cell_type": "code",
   "execution_count": null,
   "id": "80c703f9-98e0-466e-9913-a9313ca4894f",
   "metadata": {},
   "outputs": [],
   "source": [
    "data = data.reshape(n_data_per_bc*n_bc, 3)"
   ]
  },
  {
   "cell_type": "code",
   "execution_count": null,
   "id": "bfd343bf-1688-4fc5-a972-fd79c4c55a2b",
   "metadata": {},
   "outputs": [],
   "source": [
    "#\n",
    "x_d, y_d, t_d = map(lambda x: np.expand_dims(x, axis=1), \n",
    "                    [data[:, 0], data[:, 1], data[:, 2]])"
   ]
  },
  {
   "cell_type": "code",
   "execution_count": null,
   "id": "ec77590d-53c9-462f-97da-07a7c3d9d993",
   "metadata": {},
   "outputs": [],
   "source": [
    "#\n",
    "N_c = 10000\n",
    "engine = qmc.LatinHypercube(d=2)\n",
    "colloc = engine.random(n=N_c)\n",
    "colloc = 2 * (colloc -0.5)"
   ]
  },
  {
   "cell_type": "code",
   "execution_count": null,
   "id": "784583e8-0238-4df6-a5bf-296173bf093a",
   "metadata": {},
   "outputs": [],
   "source": [
    "x_c, y_c = map(lambda x: np.expand_dims(x, axis=1), \n",
    "               [colloc[:, 0], colloc[:, 1]])"
   ]
  },
  {
   "cell_type": "code",
   "execution_count": null,
   "id": "6c664661-1a28-43e5-a059-3c9b3c2d3ce8",
   "metadata": {},
   "outputs": [],
   "source": [
    "# Transform to float32\n",
    "x_c, y_c, x_d, y_d, t_d =map(lambda x: tf.convert_to_tensor(x,dtype=tf.float32),\n",
    "                             [x_c, y_c, x_d, y_d, t_d])"
   ]
  },
  {
   "cell_type": "code",
   "execution_count": null,
   "id": "6dfaa5ff-7b07-40ab-8f31-08d12b4791bc",
   "metadata": {},
   "outputs": [],
   "source": [
    "plt.figure(\"\", figsize=(6, 6))\n",
    "plt.title(\"Boundary Data points and Collocation points\")\n",
    "\n",
    "plt.scatter(x_d, y_d, marker='x', c='k', label='BDP')\n",
    "plt.scatter(x_c, y_c, s=.2, marker=\".\", c=\"r\", label=\"CP\")\n",
    "plt.show()"
   ]
  },
  {
   "cell_type": "code",
   "execution_count": null,
   "id": "93e62820-297e-4de0-b6c7-46244bbeb697",
   "metadata": {},
   "outputs": [],
   "source": [
    "### model builder function\n",
    "def DNN_builder(in_shape=2, out_shape=1, n_hidden_layers=10, \n",
    "                neuron_per_layer=20, actfn=\"tanh\"):\n",
    "    # input layer\n",
    "    input_layer = tf.keras.layers.Input(shape=(in_shape,))\n",
    "    # hidden layers\n",
    "    hidden = [tf.keras.layers.Dense(neuron_per_layer, activation=actfn)(input_layer)]\n",
    "    for i in range(n_hidden_layers-1):\n",
    "        new_layer = tf.keras.layers.Dense(neuron_per_layer,\n",
    "                                          activation=actfn,\n",
    "                                          activity_regularizer=None)(hidden[-1])\n",
    "        hidden.append(new_layer)\n",
    "    # output layer\n",
    "    output_layer = tf.keras.layers.Dense(1, activation=None)(hidden[-1])\n",
    "    # building the model\n",
    "    name = f\"DNN-{n_hidden_layers}\"\n",
    "    model = tf.keras.Model(input_layer, output_layer, name=name)\n",
    "    return model"
   ]
  },
  {
   "cell_type": "code",
   "execution_count": null,
   "id": "5a845659-5c30-49fb-8098-d2a7679d844a",
   "metadata": {},
   "outputs": [],
   "source": [
    "tf.keras.backend.clear_session()\n",
    "model = DNN_builder(2, 1, 9, 20, \"tanh\")\n",
    "# model.summary()\n",
    "# tf.keras.utils.plot_model(model, to_file='model_plot.png', show_shapes=True, \n",
    "#                           show_layer_names=True, show_dtype=True, \n",
    "#                           show_layer_activations=True)"
   ]
  },
  {
   "cell_type": "code",
   "execution_count": null,
   "id": "7a02f64e-8a48-4bd5-8490-8828e938c3e9",
   "metadata": {},
   "outputs": [],
   "source": [
    "@tf.function\n",
    "def u(x, y):\n",
    "    u = model(tf.concat([x, y], axis=1))\n",
    "    return u"
   ]
  },
  {
   "cell_type": "code",
   "execution_count": null,
   "id": "c2106d67-16fa-4743-8a0e-7dc173ea163e",
   "metadata": {},
   "outputs": [],
   "source": [
    "@tf.function\n",
    "def f(x, y):\n",
    "    u0 = u(x, y)\n",
    "    u_x = tf.gradients(u0, x)[0]\n",
    "    u_y = tf.gradients(u0, y)[0]\n",
    "    u_xx = tf.gradients(u_x, x)[0]\n",
    "    u_yy = tf.gradients(u_y, y)[0]\n",
    "    F = u_xx + u_yy\n",
    "    return tf.reduce_mean(tf.square(F))"
   ]
  },
  {
   "cell_type": "code",
   "execution_count": null,
   "id": "b0215094-e664-4d43-8923-2493b3c0f1d8",
   "metadata": {},
   "outputs": [],
   "source": [
    "@tf.function\n",
    "def mse(y, y_):\n",
    "    return tf.reduce_mean(tf.square(y-y_))"
   ]
  },
  {
   "cell_type": "code",
   "execution_count": null,
   "id": "441e59ad-e01f-463a-8ffd-1e469dd7abcb",
   "metadata": {},
   "outputs": [],
   "source": [
    "loss = 0\n",
    "epochs = 1000\n",
    "opt = tf.keras.optimizers.legacy.Adam(learning_rate=5e-4)\n",
    "epoch = 0\n",
    "loss_values = np.array([])\n",
    "#\n",
    "start = time.time()\n",
    "\n",
    "#\n",
    "for epoch in range(epochs):\n",
    "    with tf.GradientTape() as tape:\n",
    "        T_ = u(x_d, y_d)\n",
    "        l = mse(t_d, T_)\n",
    "\n",
    "        L = f(x_c, y_c)\n",
    "        loss = l+L\n",
    "    g = tape.gradient(loss, model.trainable_weights)\n",
    "    opt.apply_gradients(zip(g, model.trainable_weights))\n",
    "    loss_values = np.append(loss_values, loss)\n",
    "    if epoch % 200 == 0 or epoch == epochs-1:\n",
    "        print(f\"{epoch:5}, {loss.numpy():.3f}\")\n",
    "\n",
    "#\n",
    "end = time.time()\n",
    "computation_time = {}\n",
    "computation_time[\"pinn\"] = end - start\n",
    "print(f\"\\ncomputation time: {end-start:.3f}\\n\")\n",
    "#\n",
    "plt.semilogy(loss_values, label=model.name)\n",
    "plt.legend()"
   ]
  },
  {
   "cell_type": "code",
   "execution_count": null,
   "id": "10625b3a-3e5b-40de-b37b-4b650ec03de3",
   "metadata": {},
   "outputs": [],
   "source": []
  },
  {
   "cell_type": "code",
   "execution_count": null,
   "id": "a9a0e50d-675a-40ca-9516-7e8988526ca5",
   "metadata": {},
   "outputs": [],
   "source": [
    "n = 100\n",
    "# l = 1.\n",
    "# r = 2*l/(n+1)\n",
    "# T = np.zeros([n*n, n*n])"
   ]
  },
  {
   "cell_type": "code",
   "execution_count": null,
   "id": "2ad5a40e-bf7b-4b58-9980-32d3f2403a7c",
   "metadata": {},
   "outputs": [],
   "source": [
    "n = 100\n",
    "l = 1.\n",
    "r = 2*l/(n+1)\n",
    "T = np.zeros([n*n, n*n])\n",
    "\n",
    "bc = {\n",
    "    \"x=-l\": 1,\n",
    "    \"x=+l\": 0.,\n",
    "    \"y=-l\": 1.,\n",
    "    \"y=+l\": 1.\n",
    "}\n",
    "\n",
    "B = np.zeros([n, n])\n",
    "k = 0\n",
    "for i in range(n):\n",
    "    x = i * r\n",
    "    for j in range(n):\n",
    "        y = j * r\n",
    "        M = np.zeros([n, n])\n",
    "        M[i, j] = -4\n",
    "        if i != 0: # ok i know\n",
    "            M[i-1, j] = 1\n",
    "        else:\n",
    "            B[i, j] += -bc[\"y=-l\"]   # b.c y = 0\n",
    "        if i != n-1:\n",
    "            M[i+1, j] = 1\n",
    "        else:\n",
    "            B[i, j] += -bc[\"y=+l\"]   # b.c y = l\n",
    "        if j != 0:\n",
    "            M[i, j-1] = 1\n",
    "        else:\n",
    "            B[i, j] += -bc[\"x=-l\"]   # b.c x = 0\n",
    "        if j != n-1:\n",
    "            M[i, j+1] = 1\n",
    "        else:\n",
    "            B[i, j] += -bc[\"x=+l\"]   # b.c x = l\n",
    "        #B[i, j] += -r**2 * q(x, y) * K(x, y)\n",
    "        m = np.reshape(M, (1, n**2))\n",
    "        T[k, :] = m\n",
    "        k += 1\n",
    "\n",
    "#\n",
    "b = np.reshape(B, (n**2, 1))\n",
    "start = time.time()\n",
    "T = np.matmul(np.linalg.inv(T), b)\n",
    "T = T.reshape([n, n])\n",
    "Temperature = T\n",
    "end = time.time()\n",
    "computation_time[\"fdm\"] = end - start\n",
    "print(f\"\\ncomputation time: {end-start:.3f}\\n\")"
   ]
  },
  {
   "cell_type": "code",
   "execution_count": null,
   "id": "11edf637-9a98-464b-b7b9-f1252d594a75",
   "metadata": {},
   "outputs": [],
   "source": [
    "plt.figure(\"\", figsize=(8, 6),dpi=200)\n",
    "#\n",
    "X = np.linspace(-1, +1, n)\n",
    "Y = np.linspace(-1, +1, n)\n",
    "X0, Y0 = np.meshgrid(X, Y)\n",
    "X = X0.reshape([n*n, 1])\n",
    "Y = Y0.reshape([n*n, 1])\n",
    "X_T = tf.convert_to_tensor(X)\n",
    "Y_T = tf.convert_to_tensor(Y)\n",
    "\n",
    "plt.subplot(221)\n",
    "S = u(X_T, Y_T)\n",
    "S = S.numpy().reshape(n, n)\n",
    "plt.pcolormesh(Y0, X0, 10.*S, cmap=\"jet\")\n",
    "plt.title(\"PINN\")\n",
    "plt.colorbar()\n",
    "\n",
    "plt.subplot(222)\n",
    "x = np.linspace(-1, +1, n)\n",
    "y = np.linspace(-1, +1, n)\n",
    "x, y = np.meshgrid(x, y)\n",
    "plt.pcolormesh(x, y, T, cmap=\"jet\")\n",
    "plt.title(\"FDM\")\n",
    "plt.colorbar()\n",
    "\n",
    "\n",
    "plt.subplot(223)\n",
    "pinn_grad = np.gradient(np.gradient(S, axis=0), axis=1)\n",
    "sigma_pinn = (pinn_grad**2).mean()\n",
    "plt.pcolormesh(X0, Y0, pinn_grad, cmap=\"jet\")\n",
    "plt.colorbar()\n",
    "plt.xlabel(\"x\")\n",
    "plt.ylabel(\"y\")\n",
    "plt.title(f\"\\nmean squared: {sigma_pinn: .3e}\")\n",
    "plt.tight_layout()\n",
    "plt.axis(\"square\")\n",
    "###\n",
    "x = np.linspace(-1, +1, n)\n",
    "y = np.linspace(-1, +1, n)\n",
    "x, y = np.meshgrid(x, y)\n",
    "#\n",
    "plt.subplot(224)\n",
    "fdm_grad = np.gradient(np.gradient(T, axis=0), axis=1)\n",
    "sigma_fdm = (fdm_grad**2).mean()\n",
    "plt.pcolormesh(x, y, fdm_grad, cmap=\"jet\")\n",
    "plt.colorbar()\n",
    "plt.title(f\"\\nmean squared: {sigma_fdm: .3e}\")\n",
    "plt.xlabel(\"x\")\n",
    "plt.ylabel(\"y\")\n",
    "plt.xlim(-1, +1)\n",
    "plt.ylim(-1, +1)\n",
    "plt.tight_layout()\n",
    "plt.axis(\"square\")\n",
    "plt.show()"
   ]
  },
  {
   "cell_type": "code",
   "execution_count": null,
   "id": "c86cddc1-386b-4dc7-9c07-b6513047e158",
   "metadata": {},
   "outputs": [],
   "source": []
  }
 ],
 "metadata": {
  "kernelspec": {
   "display_name": "Python 3 (ipykernel)",
   "language": "python",
   "name": "python3"
  },
  "language_info": {
   "codemirror_mode": {
    "name": "ipython",
    "version": 3
   },
   "file_extension": ".py",
   "mimetype": "text/x-python",
   "name": "python",
   "nbconvert_exporter": "python",
   "pygments_lexer": "ipython3",
   "version": "3.11.7"
  }
 },
 "nbformat": 4,
 "nbformat_minor": 5
}
