{
 "cells": [
  {
   "cell_type": "code",
   "execution_count": null,
   "id": "3a0c8374-9d1f-49aa-80e1-4103339ce596",
   "metadata": {},
   "outputs": [],
   "source": [
    "#imports\n",
    "import tensorflow as tf\n",
    "import numpy as np\n",
    "import time\n",
    "from scipy.stats import qmc\n",
    "\n",
    "\n",
    "import matplotlib as mpl\n",
    "import matplotlib.pyplot as plt\n",
    "mpl.rcParams[\"font.family\"] = \"Times New Roman\"\n",
    "mpl.rcParams[\"font.size\"] = 12\n",
    "mpl.rcParams[\"text.usetex\"] = True\n"
   ]
  },
  {
   "cell_type": "code",
   "execution_count": null,
   "id": "67b3a040-bbcd-4a0e-a0ec-69df7ec7b6e1",
   "metadata": {},
   "outputs": [],
   "source": [
    "tf.keras.backend.set_floatx(\"float32\")"
   ]
  },
  {
   "cell_type": "code",
   "execution_count": null,
   "id": "e31f99b3-7ace-4a99-9aef-fd28c0adcedd",
   "metadata": {},
   "outputs": [],
   "source": [
    "dim = 3\n",
    "n_bc = dim * 2\n",
    "n_data_per_bc = 8\n",
    "\n",
    "engine = qmc.LatinHypercube(d=1)\n",
    "data = np.zeros([n_bc, n_data_per_bc, dim+1])\n",
    "\n",
    "for i, j in zip(range(n_bc), [+1, -1]*n_bc):\n",
    "    \n",
    "    if i % 2 == 0:\n",
    "        for dd in range(dim):\n",
    "            if i // 2 == dd:\n",
    "                data[i,:, dd] = j\n",
    "            else:\n",
    "                data[i,:, dd] = (engine.random(n=n_data_per_bc)[:, 0] - 0.5) * 2\n",
    "    elif i % 2 == 1:\n",
    "        for dd in range(dim):\n",
    "            if i // 2 == dd:\n",
    "                data[i,:, dd] = j\n",
    "            else:\n",
    "                data[i,:, dd] = (engine.random(n=n_data_per_bc)[:, 0] - 0.5) * 2\n",
    "\n",
    "for i in range(1,n_bc):\n",
    "    data[i,:,dim] = 1."
   ]
  },
  {
   "cell_type": "code",
   "execution_count": null,
   "id": "b90065c5-1dda-498e-8850-982b1bbf1af1",
   "metadata": {},
   "outputs": [],
   "source": [
    "data = data.reshape(n_data_per_bc*n_bc, dim+1)"
   ]
  },
  {
   "cell_type": "code",
   "execution_count": null,
   "id": "da798c5c-56f4-4ea2-a844-7103dcd9ae04",
   "metadata": {},
   "outputs": [],
   "source": [
    "x_d, y_d, z_d, t_d = map(lambda x: np.expand_dims(x, axis=1), \n",
    "                    [data[:, 0], data[:, 1], data[:, 2], data[:, 3]])"
   ]
  },
  {
   "cell_type": "code",
   "execution_count": null,
   "id": "2a373e04-7a8e-459a-a49e-d7ced102958f",
   "metadata": {},
   "outputs": [],
   "source": [
    "# \n",
    "N_c = 10000\n",
    "engine = qmc.LatinHypercube(d=3)\n",
    "colloc = engine.random(n=N_c)\n",
    "colloc = 2 * (colloc -0.5)"
   ]
  },
  {
   "cell_type": "code",
   "execution_count": null,
   "id": "534abc4f-dc89-4c83-9e41-5f767abd130e",
   "metadata": {},
   "outputs": [],
   "source": [
    "x_c, y_c, z_c = map(lambda x: np.expand_dims(x, axis=1), \n",
    "               [colloc[:, 0], colloc[:, 1], colloc[:, 2]])\n",
    "\n",
    "\n"
   ]
  },
  {
   "cell_type": "code",
   "execution_count": null,
   "id": "46a83c2c-4759-4f66-b90a-c88f7441f525",
   "metadata": {},
   "outputs": [],
   "source": [
    "# Transform to float32\n",
    "x_c, y_c, z_c, x_d, y_d, z_d, t_d =map(lambda x: tf.convert_to_tensor(x,dtype=tf.float32),\n",
    "                             [x_c, y_c, z_c, x_d, y_d, z_d, t_d])"
   ]
  },
  {
   "cell_type": "code",
   "execution_count": null,
   "id": "af64d085-08a5-4347-bb57-a322d48e2f0a",
   "metadata": {
    "scrolled": true
   },
   "outputs": [],
   "source": [
    "fig = plt.figure(\"\", figsize=(6, 6), dpi=300)\n",
    "ax = fig.add_subplot(111, projection='3d')\n",
    "\n",
    "# 设置标题\n",
    "ax.set_title(\"Boundary Data points and Collocation points\")\n",
    "\n",
    "# 绘制散点图\n",
    "ax.scatter(x_d, y_d, z_d, marker='x', c='k', label='BDP')\n",
    "ax.scatter(x_c, y_c, z_c, s=.2, marker=\".\", c=\"r\", label=\"CP\")\n",
    "\n",
    "# 显示图形\n",
    "plt.legend()\n",
    "plt.savefig(f\"/Users/michaellea/001 - M.Sc_HPC/55640-Project/Seminar-2/Presentation/Slides/F0PINN_DATA.png\", bbox_inches='tight')\n",
    "plt.show()"
   ]
  },
  {
   "cell_type": "code",
   "execution_count": null,
   "id": "b5f0b965-f9f5-4405-b00b-4b5a2f0c351d",
   "metadata": {},
   "outputs": [],
   "source": [
    "# \n",
    "### model builder function\n",
    "def DNN_builder(in_shape=2, out_shape=1, n_hidden_layers=10, \n",
    "                neuron_per_layer=20, actfn=\"tanh\"):\n",
    "    # input layer\n",
    "    input_layer = tf.keras.layers.Input(shape=(in_shape,))\n",
    "    # hidden layers\n",
    "    hidden = [tf.keras.layers.Dense(neuron_per_layer, activation=actfn)(input_layer)]\n",
    "    for i in range(n_hidden_layers-1):\n",
    "        new_layer = tf.keras.layers.Dense(neuron_per_layer,\n",
    "                                          activation=actfn,\n",
    "                                          activity_regularizer=None)(hidden[-1])\n",
    "        hidden.append(new_layer)\n",
    "    # output layer\n",
    "    output_layer = tf.keras.layers.Dense(1, activation=None)(hidden[-1])\n",
    "    # building the model\n",
    "    name = f\"DNN-{n_hidden_layers}\"\n",
    "    model = tf.keras.Model(input_layer, output_layer, name=name)\n",
    "    return model"
   ]
  },
  {
   "cell_type": "code",
   "execution_count": null,
   "id": "ded0ea00-81d7-45bf-8c51-498daefa5cb9",
   "metadata": {},
   "outputs": [],
   "source": [
    "import os"
   ]
  },
  {
   "cell_type": "code",
   "execution_count": null,
   "id": "7040fb16-fd36-4f26-8e7d-e5fc743a26ea",
   "metadata": {},
   "outputs": [],
   "source": [
    "#\n",
    "\n",
    "layers = [1, 4, 8]\n",
    "loss_dict = {}\n",
    "train_time = {}\n",
    "\n",
    "n = 32\n",
    "X = np.linspace(-1, +1, n)\n",
    "Y = np.linspace(-1, +1, n)\n",
    "Z = np.linspace(-1, +1, n)\n",
    "X0, Y0, Z0 = np.meshgrid(X, Y, Z)\n",
    "X = X0.reshape([n*n*n, 1])\n",
    "Y = Y0.reshape([n*n*n, 1])\n",
    "Z = Z0.reshape([n*n*n, 1])\n",
    "X_T = tf.convert_to_tensor(X)\n",
    "Y_T = tf.convert_to_tensor(Y)\n",
    "Z_T = tf.convert_to_tensor(Z)\n",
    "\n",
    "\n",
    "for it, layer in enumerate(layers):\n",
    "    os.mkdir(f\"outputs3D{layer}\")\n",
    "    \n",
    "    @tf.function\n",
    "    def f(x, y, z):\n",
    "        u0 = u(x, y, z)\n",
    "        u_x = tf.gradients(u0, x)[0]\n",
    "        u_y = tf.gradients(u0, y)[0]\n",
    "        u_z = tf.gradients(u0, z)[0]\n",
    "        \n",
    "        u_xx = tf.gradients(u_x, x)[0]\n",
    "        u_yy = tf.gradients(u_y, y)[0]\n",
    "        u_zz = tf.gradients(u_z, z)[0]\n",
    "        F = u_xx + u_yy + u_zz\n",
    "        return tf.reduce_mean(tf.square(F))\n",
    "    \n",
    "    @tf.function\n",
    "    def u(x, y, z):\n",
    "        u = model(tf.concat([x, y, z], axis=1))\n",
    "        return u\n",
    "    @tf.function\n",
    "    def mse(y, y_):\n",
    "        return tf.reduce_mean(tf.square(y-y_))\n",
    "\n",
    "    \n",
    "    tf.keras.backend.clear_session()\n",
    "    model = DNN_builder(3, 1, layer, 20, \"tanh\")\n",
    "    # model.summary()\n",
    "    # tf.keras.utils.plot_model(model, to_file='model_plot.png', show_shapes=True, \n",
    "    #                           show_layer_names=True, show_dtype=True, \n",
    "    #                           show_layer_activations=True)\n",
    "    \n",
    "    loss = 0\n",
    "    epochs = 1000\n",
    "    opt = tf.keras.optimizers.legacy.Adam(learning_rate=1e-3)\n",
    "\n",
    "    \n",
    "    epoch = 0\n",
    "    loss_values = np.array([])\n",
    "    start = time.time()\n",
    "    for epoch in range(epochs):\n",
    "        with tf.GradientTape() as tape:\n",
    "            T_ = u(x_d, y_d, z_d)\n",
    "            l = mse(t_d, T_)\n",
    "    \n",
    "            L = f(x_c, y_c, z_c)\n",
    "            loss = l+L\n",
    "        g = tape.gradient(loss, model.trainable_weights)\n",
    "        opt.apply_gradients(zip(g, model.trainable_weights))\n",
    "        loss_values = np.append(loss_values, loss)\n",
    "        if epoch % 20 == 0 or epoch == epochs-1:\n",
    "            print(f\"{epoch:5}, {loss.numpy():.3f}\")\n",
    "            S = u(X_T, Y_T, Z_T)*10.\n",
    "            S = S.numpy().reshape(n, n, n)\n",
    "\n",
    "            # for slice in range(n):\n",
    "            #     file.write('\\n\\n')\n",
    "            #     np.savetxt(f\"outputs3D{layer}/outputPINN{epoch // 20+1}.dat\", S[:,:,slice], fmt=\"%lf\")\n",
    "            \n",
    "            with open(f\"outputs3D{layer}/outputPINN{epoch // 20+1}.dat\", 'w') as file:\n",
    "                for slice in range(n):\n",
    "                    for idx_x in range(n):\n",
    "                        file.write(\"\\n\"+np.array2string(S[idx_x,:,slice], separator=' ', formatter={'float_kind':lambda x: \"%.8f\" % x})[1:-1].replace('\\n', ''))\n",
    "                    file.write(\"\\n\")\n",
    "\n",
    "    end = time.time()\n",
    "    print(f\"\\ncomputation time: {end-start:.3f}\\n\")\n",
    "\n",
    "    loss_dict[layer] = loss_values\n",
    "    train_time[layer] = end-start"
   ]
  },
  {
   "cell_type": "code",
   "execution_count": null,
   "id": "8deaa7c9-1ef8-4195-bba7-54b58fa3b905",
   "metadata": {},
   "outputs": [],
   "source": [
    "!rm -rf outputs3D1/"
   ]
  },
  {
   "cell_type": "code",
   "execution_count": null,
   "id": "8a4132ad-0f4d-4b9b-b48f-fafd56ffcd4e",
   "metadata": {},
   "outputs": [],
   "source": [
    "fig = plt.figure(figsize=(6,5), dpi=150)\n",
    "colors = {1: \"b\", 4:\"b\" ,8: \"r\"}\n",
    "linestypes = {1:\"-\", 4: \"-.\", 8: \"-\"}\n",
    "labels = {1: \"PINN$3D$-$1$\", \n",
    "          4:\"PINN$3D$-$4$\", \n",
    "          8:\"PINN$3D$-$8$\"} \n",
    "# xvalues = df[df.columns[0]]\n",
    "\n",
    "for it in layers:\n",
    "    # it = df.columns[i]\n",
    "    plt.semilogy(loss_dict[it], \n",
    "             label=labels[it], \n",
    "             color=colors[it],\n",
    "             linestyle=linestypes[it]\n",
    "            )\n",
    "# plt.xlim([0,1e3])\n",
    "plt.ylabel(\"Estimated Mean Square Errors ($MSE$)\")\n",
    "plt.xlabel(\"Number of Iterations\")\n",
    "plt.grid()\n",
    "plt.legend()\n",
    "plt.title(\"Traning Results of Heat Equation with $d=3$ by PINN\")\n",
    "plt.savefig(\"/Users/michaellea/001 - M.Sc_HPC/55640-Project/Seminar-2/Presentation/Slides/F0PINN3D.png\", bbox_inches='tight')\n",
    "plt.show()"
   ]
  },
  {
   "cell_type": "code",
   "execution_count": null,
   "id": "e9eb088a-83ed-48dc-9fd0-2ac1c8d30685",
   "metadata": {},
   "outputs": [],
   "source": [
    "file"
   ]
  },
  {
   "cell_type": "code",
   "execution_count": null,
   "id": "fdc951df-ca59-4c71-be08-54d5053df431",
   "metadata": {},
   "outputs": [],
   "source": [
    "with open('outputs3D1/outputPINN1.dat', 'a') as file:\n",
    "    file.write(\"\\n\"+np.array2string(S[0,:,0], separator=' ', formatter={'float_kind':lambda x: \"%.8f\" % x})[1:-1].replace('\\n', ''))"
   ]
  },
  {
   "cell_type": "code",
   "execution_count": null,
   "id": "d5d8fbe3-f2a7-4e9e-a0f7-1003bdcab999",
   "metadata": {},
   "outputs": [],
   "source": [
    "(S[0,:,0].shape)"
   ]
  },
  {
   "cell_type": "code",
   "execution_count": null,
   "id": "37e978ef-1628-433a-a6f3-6ab063356958",
   "metadata": {},
   "outputs": [],
   "source": [
    "np.array2string(S[0,:,0], separator=' ', formatter={'float_kind':lambda x: \"%.8f\" % x})[1:-1].replace('\\n', '')"
   ]
  },
  {
   "cell_type": "code",
   "execution_count": null,
   "id": "6a819733-6768-4bdc-839a-b798716e6ca7",
   "metadata": {},
   "outputs": [],
   "source": []
  },
  {
   "cell_type": "code",
   "execution_count": null,
   "id": "85f43b97-bcb9-44d3-ada4-0ad0a0d4ae5c",
   "metadata": {},
   "outputs": [],
   "source": [
    "# Create a 3D plots\n",
    "fig = plt.figure(figsize=(15,5), dpi=200)\n",
    "\n",
    "#\n",
    "X = np.linspace(-1, +1, n)\n",
    "Y = np.linspace(-1, +1, n)\n",
    "Z = np.linspace(-1, +1, n)\n",
    "X0, Y0, Z0 = np.meshgrid(X, Y, Z)\n",
    "X = X0.reshape([n*n*n, 1])\n",
    "Y = Y0.reshape([n*n*n, 1])\n",
    "Z = Z0.reshape([n*n*n, 1])\n",
    "X_T = tf.convert_to_tensor(X)\n",
    "Y_T = tf.convert_to_tensor(Y)\n",
    "Z_T = tf.convert_to_tensor(Z)\n",
    "\n",
    "\n",
    "ax = fig.add_subplot(121, projection='3d')\n",
    "\n",
    "S = u(X_T, Y_T, Z_T)\n",
    "S = S.numpy().reshape(n, n, n)\n",
    "\n",
    "# scatter = ax.scatter(Grid_World[:,0], Grid_World[:,1], Grid_World[:,2], c=u_ref, cmap='jet', marker='o',alpha=.5, s=2)\n",
    "ax.scatter(X0, Y0, Z0, c=10.*S, cmap=\"jet\")\n",
    "# cbar = fig.colorbar(scatter, ax=ax, label='$u(1, x, y)$')\n",
    "# plt.subplots_adjust(right=0.8)\n",
    "\n",
    "# # Set labels and title\n",
    "# ax.set_xlabel('X-axis')\n",
    "# ax.set_ylabel('Y-axis')\n",
    "# ax.set_title('Solution')\n",
    "\n",
    "# plt.xlim([0,1])\n",
    "# plt.ylim([0,1])\n",
    "\n",
    "# ax2 = fig.add_subplot(122, projection='3d')\n",
    "# cbar = fig.colorbar(scatter, ax=ax2, label='$u(1, x, y)$')\n",
    "# scatter = ax2.scatter(Grid_World[:,0], Grid_World[:,1], Grid_World[:,2], alpha=.5, cmap='jet', marker='o', c = model(Grid_World, training=False),s=2)\n",
    "\n",
    "# # Set labels and title\n",
    "# ax2.set_xlabel('X-axis')\n",
    "# ax2.set_ylabel('Y-axis')\n",
    "# ax2.set_title('Prediction')\n",
    "\n",
    "# plt.xlim([0,1])\n",
    "# plt.ylim([0,1])\n",
    "\n",
    "# plt.savefig(f\"/Users/michaellea/001 - M.Sc_HPC/55640-Project/Seminar-2/Presentation/Slides/F0{d}.png\", bbox_inches='tight')\n",
    "\n",
    "plt.show()"
   ]
  },
  {
   "cell_type": "code",
   "execution_count": null,
   "id": "2f002e0b-4963-4aa4-b1a1-cf7fa8d1a442",
   "metadata": {},
   "outputs": [],
   "source": []
  },
  {
   "cell_type": "code",
   "execution_count": null,
   "id": "b197edca-a942-41bf-9da1-b8e013834fa2",
   "metadata": {},
   "outputs": [],
   "source": []
  }
 ],
 "metadata": {
  "kernelspec": {
   "display_name": "Python 3 (ipykernel)",
   "language": "python",
   "name": "python3"
  },
  "language_info": {
   "codemirror_mode": {
    "name": "ipython",
    "version": 3
   },
   "file_extension": ".py",
   "mimetype": "text/x-python",
   "name": "python",
   "nbconvert_exporter": "python",
   "pygments_lexer": "ipython3",
   "version": "3.11.7"
  }
 },
 "nbformat": 4,
 "nbformat_minor": 5
}
